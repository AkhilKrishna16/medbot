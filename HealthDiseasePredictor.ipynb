{
  "nbformat": 4,
  "nbformat_minor": 0,
  "metadata": {
    "colab": {
      "provenance": []
    },
    "kernelspec": {
      "name": "python3",
      "display_name": "Python 3"
    },
    "language_info": {
      "name": "python"
    }
  },
  "cells": [
    {
      "cell_type": "code",
      "execution_count": 6,
      "metadata": {
        "id": "VDTtrz-KB582"
      },
      "outputs": [],
      "source": [
        "import numpy as np\n",
        "import pandas as pd\n",
        "import matplotlib.pyplot as plt\n",
        "import seaborn as sns\n",
        "\n",
        "import os\n",
        "import string\n",
        "import re\n",
        "import spacy\n",
        "from sklearn.model_selection import train_test_split\n",
        "from sklearn import metrics\n",
        "\n",
        "import nltk\n",
        "\n",
        "from nltk.stem import WordNetLemmatizer\n",
        "from nltk.corpus import wordnet\n",
        "\n",
        "import tensorflow as tf\n",
        "from tensorflow import keras\n",
        "\n"
      ]
    },
    {
      "cell_type": "code",
      "source": [
        "spacy_model = spacy.load(\"en_core_web_sm\")\n",
        "lemmatizer = WordNetLemmatizer()\n",
        "\n",
        "spacy_model"
      ],
      "metadata": {
        "colab": {
          "base_uri": "https://localhost:8080/"
        },
        "id": "JoW7mCZQDCSe",
        "outputId": "5a08e271-86c8-405e-94b6-28007e53aece"
      },
      "execution_count": 7,
      "outputs": [
        {
          "output_type": "execute_result",
          "data": {
            "text/plain": [
              "<spacy.lang.en.English at 0x7f15873b12d0>"
            ]
          },
          "metadata": {},
          "execution_count": 7
        }
      ]
    },
    {
      "cell_type": "code",
      "source": [
        "# Example of lemmatization and a word dataset\n",
        "\n",
        "x = \"It's been a hard road ahead but also very fun in the journey of becoming the pirate king\"\n",
        "y = lemmatizer.lemmatize(x)\n",
        "print(lemmatizer.lemmatize(x, wordnet.VERB))\n",
        "\n",
        "print('--------------------------')\n",
        "\n",
        "y = spacy_model(x)\n",
        "for token in y:\n",
        "    print(token.lemma_)"
      ],
      "metadata": {
        "colab": {
          "base_uri": "https://localhost:8080/"
        },
        "id": "uWk9i9YMDG7Z",
        "outputId": "a5b7d4d9-abfc-4451-d948-4eaec48f058e"
      },
      "execution_count": 8,
      "outputs": [
        {
          "output_type": "stream",
          "name": "stdout",
          "text": [
            "It's been a hard road ahead but also very fun in the journey of becoming the pirate king\n",
            "--------------------------\n",
            "it\n",
            "be\n",
            "be\n",
            "a\n",
            "hard\n",
            "road\n",
            "ahead\n",
            "but\n",
            "also\n",
            "very\n",
            "fun\n",
            "in\n",
            "the\n",
            "journey\n",
            "of\n",
            "become\n",
            "the\n",
            "pirate\n",
            "king\n"
          ]
        }
      ]
    },
    {
      "cell_type": "code",
      "source": [
        "data = pd.read_csv(\"/content/drive/MyDrive/Colab Notebooks/Symptom2Disease.csv\")\n",
        "data = data.drop([\"Unnamed: 0\"], axis=1)\n",
        "data"
      ],
      "metadata": {
        "colab": {
          "base_uri": "https://localhost:8080/",
          "height": 424
        },
        "id": "oFnvEDb6Exgr",
        "outputId": "845e0985-cd2c-4602-f4d5-df48b463542d"
      },
      "execution_count": 9,
      "outputs": [
        {
          "output_type": "execute_result",
          "data": {
            "text/plain": [
              "          label                                               text\n",
              "0     Psoriasis  I have been experiencing a skin rash on my arm...\n",
              "1     Psoriasis  My skin has been peeling, especially on my kne...\n",
              "2     Psoriasis  I have been experiencing joint pain in my fing...\n",
              "3     Psoriasis  There is a silver like dusting on my skin, esp...\n",
              "4     Psoriasis  My nails have small dents or pits in them, and...\n",
              "...         ...                                                ...\n",
              "1195   diabetes  I'm shaking and trembling all over. I've lost ...\n",
              "1196   diabetes  Particularly in the crevices of my skin, I hav...\n",
              "1197   diabetes  I regularly experience these intense urges and...\n",
              "1198   diabetes  I have trouble breathing, especially outside. ...\n",
              "1199   diabetes  I constantly sneeze and have a dry cough. My i...\n",
              "\n",
              "[1200 rows x 2 columns]"
            ],
            "text/html": [
              "\n",
              "  <div id=\"df-2264f341-d403-4e54-a8e2-6492e3116d32\" class=\"colab-df-container\">\n",
              "    <div>\n",
              "<style scoped>\n",
              "    .dataframe tbody tr th:only-of-type {\n",
              "        vertical-align: middle;\n",
              "    }\n",
              "\n",
              "    .dataframe tbody tr th {\n",
              "        vertical-align: top;\n",
              "    }\n",
              "\n",
              "    .dataframe thead th {\n",
              "        text-align: right;\n",
              "    }\n",
              "</style>\n",
              "<table border=\"1\" class=\"dataframe\">\n",
              "  <thead>\n",
              "    <tr style=\"text-align: right;\">\n",
              "      <th></th>\n",
              "      <th>label</th>\n",
              "      <th>text</th>\n",
              "    </tr>\n",
              "  </thead>\n",
              "  <tbody>\n",
              "    <tr>\n",
              "      <th>0</th>\n",
              "      <td>Psoriasis</td>\n",
              "      <td>I have been experiencing a skin rash on my arm...</td>\n",
              "    </tr>\n",
              "    <tr>\n",
              "      <th>1</th>\n",
              "      <td>Psoriasis</td>\n",
              "      <td>My skin has been peeling, especially on my kne...</td>\n",
              "    </tr>\n",
              "    <tr>\n",
              "      <th>2</th>\n",
              "      <td>Psoriasis</td>\n",
              "      <td>I have been experiencing joint pain in my fing...</td>\n",
              "    </tr>\n",
              "    <tr>\n",
              "      <th>3</th>\n",
              "      <td>Psoriasis</td>\n",
              "      <td>There is a silver like dusting on my skin, esp...</td>\n",
              "    </tr>\n",
              "    <tr>\n",
              "      <th>4</th>\n",
              "      <td>Psoriasis</td>\n",
              "      <td>My nails have small dents or pits in them, and...</td>\n",
              "    </tr>\n",
              "    <tr>\n",
              "      <th>...</th>\n",
              "      <td>...</td>\n",
              "      <td>...</td>\n",
              "    </tr>\n",
              "    <tr>\n",
              "      <th>1195</th>\n",
              "      <td>diabetes</td>\n",
              "      <td>I'm shaking and trembling all over. I've lost ...</td>\n",
              "    </tr>\n",
              "    <tr>\n",
              "      <th>1196</th>\n",
              "      <td>diabetes</td>\n",
              "      <td>Particularly in the crevices of my skin, I hav...</td>\n",
              "    </tr>\n",
              "    <tr>\n",
              "      <th>1197</th>\n",
              "      <td>diabetes</td>\n",
              "      <td>I regularly experience these intense urges and...</td>\n",
              "    </tr>\n",
              "    <tr>\n",
              "      <th>1198</th>\n",
              "      <td>diabetes</td>\n",
              "      <td>I have trouble breathing, especially outside. ...</td>\n",
              "    </tr>\n",
              "    <tr>\n",
              "      <th>1199</th>\n",
              "      <td>diabetes</td>\n",
              "      <td>I constantly sneeze and have a dry cough. My i...</td>\n",
              "    </tr>\n",
              "  </tbody>\n",
              "</table>\n",
              "<p>1200 rows × 2 columns</p>\n",
              "</div>\n",
              "    <div class=\"colab-df-buttons\">\n",
              "\n",
              "  <div class=\"colab-df-container\">\n",
              "    <button class=\"colab-df-convert\" onclick=\"convertToInteractive('df-2264f341-d403-4e54-a8e2-6492e3116d32')\"\n",
              "            title=\"Convert this dataframe to an interactive table.\"\n",
              "            style=\"display:none;\">\n",
              "\n",
              "  <svg xmlns=\"http://www.w3.org/2000/svg\" height=\"24px\" viewBox=\"0 -960 960 960\">\n",
              "    <path d=\"M120-120v-720h720v720H120Zm60-500h600v-160H180v160Zm220 220h160v-160H400v160Zm0 220h160v-160H400v160ZM180-400h160v-160H180v160Zm440 0h160v-160H620v160ZM180-180h160v-160H180v160Zm440 0h160v-160H620v160Z\"/>\n",
              "  </svg>\n",
              "    </button>\n",
              "\n",
              "  <style>\n",
              "    .colab-df-container {\n",
              "      display:flex;\n",
              "      gap: 12px;\n",
              "    }\n",
              "\n",
              "    .colab-df-convert {\n",
              "      background-color: #E8F0FE;\n",
              "      border: none;\n",
              "      border-radius: 50%;\n",
              "      cursor: pointer;\n",
              "      display: none;\n",
              "      fill: #1967D2;\n",
              "      height: 32px;\n",
              "      padding: 0 0 0 0;\n",
              "      width: 32px;\n",
              "    }\n",
              "\n",
              "    .colab-df-convert:hover {\n",
              "      background-color: #E2EBFA;\n",
              "      box-shadow: 0px 1px 2px rgba(60, 64, 67, 0.3), 0px 1px 3px 1px rgba(60, 64, 67, 0.15);\n",
              "      fill: #174EA6;\n",
              "    }\n",
              "\n",
              "    .colab-df-buttons div {\n",
              "      margin-bottom: 4px;\n",
              "    }\n",
              "\n",
              "    [theme=dark] .colab-df-convert {\n",
              "      background-color: #3B4455;\n",
              "      fill: #D2E3FC;\n",
              "    }\n",
              "\n",
              "    [theme=dark] .colab-df-convert:hover {\n",
              "      background-color: #434B5C;\n",
              "      box-shadow: 0px 1px 3px 1px rgba(0, 0, 0, 0.15);\n",
              "      filter: drop-shadow(0px 1px 2px rgba(0, 0, 0, 0.3));\n",
              "      fill: #FFFFFF;\n",
              "    }\n",
              "  </style>\n",
              "\n",
              "    <script>\n",
              "      const buttonEl =\n",
              "        document.querySelector('#df-2264f341-d403-4e54-a8e2-6492e3116d32 button.colab-df-convert');\n",
              "      buttonEl.style.display =\n",
              "        google.colab.kernel.accessAllowed ? 'block' : 'none';\n",
              "\n",
              "      async function convertToInteractive(key) {\n",
              "        const element = document.querySelector('#df-2264f341-d403-4e54-a8e2-6492e3116d32');\n",
              "        const dataTable =\n",
              "          await google.colab.kernel.invokeFunction('convertToInteractive',\n",
              "                                                    [key], {});\n",
              "        if (!dataTable) return;\n",
              "\n",
              "        const docLinkHtml = 'Like what you see? Visit the ' +\n",
              "          '<a target=\"_blank\" href=https://colab.research.google.com/notebooks/data_table.ipynb>data table notebook</a>'\n",
              "          + ' to learn more about interactive tables.';\n",
              "        element.innerHTML = '';\n",
              "        dataTable['output_type'] = 'display_data';\n",
              "        await google.colab.output.renderOutput(dataTable, element);\n",
              "        const docLink = document.createElement('div');\n",
              "        docLink.innerHTML = docLinkHtml;\n",
              "        element.appendChild(docLink);\n",
              "      }\n",
              "    </script>\n",
              "  </div>\n",
              "\n",
              "\n",
              "<div id=\"df-f24890c1-2dec-4700-82c1-996d61850543\">\n",
              "  <button class=\"colab-df-quickchart\" onclick=\"quickchart('df-f24890c1-2dec-4700-82c1-996d61850543')\"\n",
              "            title=\"Suggest charts.\"\n",
              "            style=\"display:none;\">\n",
              "\n",
              "<svg xmlns=\"http://www.w3.org/2000/svg\" height=\"24px\"viewBox=\"0 0 24 24\"\n",
              "     width=\"24px\">\n",
              "    <g>\n",
              "        <path d=\"M19 3H5c-1.1 0-2 .9-2 2v14c0 1.1.9 2 2 2h14c1.1 0 2-.9 2-2V5c0-1.1-.9-2-2-2zM9 17H7v-7h2v7zm4 0h-2V7h2v10zm4 0h-2v-4h2v4z\"/>\n",
              "    </g>\n",
              "</svg>\n",
              "  </button>\n",
              "\n",
              "<style>\n",
              "  .colab-df-quickchart {\n",
              "      --bg-color: #E8F0FE;\n",
              "      --fill-color: #1967D2;\n",
              "      --hover-bg-color: #E2EBFA;\n",
              "      --hover-fill-color: #174EA6;\n",
              "      --disabled-fill-color: #AAA;\n",
              "      --disabled-bg-color: #DDD;\n",
              "  }\n",
              "\n",
              "  [theme=dark] .colab-df-quickchart {\n",
              "      --bg-color: #3B4455;\n",
              "      --fill-color: #D2E3FC;\n",
              "      --hover-bg-color: #434B5C;\n",
              "      --hover-fill-color: #FFFFFF;\n",
              "      --disabled-bg-color: #3B4455;\n",
              "      --disabled-fill-color: #666;\n",
              "  }\n",
              "\n",
              "  .colab-df-quickchart {\n",
              "    background-color: var(--bg-color);\n",
              "    border: none;\n",
              "    border-radius: 50%;\n",
              "    cursor: pointer;\n",
              "    display: none;\n",
              "    fill: var(--fill-color);\n",
              "    height: 32px;\n",
              "    padding: 0;\n",
              "    width: 32px;\n",
              "  }\n",
              "\n",
              "  .colab-df-quickchart:hover {\n",
              "    background-color: var(--hover-bg-color);\n",
              "    box-shadow: 0 1px 2px rgba(60, 64, 67, 0.3), 0 1px 3px 1px rgba(60, 64, 67, 0.15);\n",
              "    fill: var(--button-hover-fill-color);\n",
              "  }\n",
              "\n",
              "  .colab-df-quickchart-complete:disabled,\n",
              "  .colab-df-quickchart-complete:disabled:hover {\n",
              "    background-color: var(--disabled-bg-color);\n",
              "    fill: var(--disabled-fill-color);\n",
              "    box-shadow: none;\n",
              "  }\n",
              "\n",
              "  .colab-df-spinner {\n",
              "    border: 2px solid var(--fill-color);\n",
              "    border-color: transparent;\n",
              "    border-bottom-color: var(--fill-color);\n",
              "    animation:\n",
              "      spin 1s steps(1) infinite;\n",
              "  }\n",
              "\n",
              "  @keyframes spin {\n",
              "    0% {\n",
              "      border-color: transparent;\n",
              "      border-bottom-color: var(--fill-color);\n",
              "      border-left-color: var(--fill-color);\n",
              "    }\n",
              "    20% {\n",
              "      border-color: transparent;\n",
              "      border-left-color: var(--fill-color);\n",
              "      border-top-color: var(--fill-color);\n",
              "    }\n",
              "    30% {\n",
              "      border-color: transparent;\n",
              "      border-left-color: var(--fill-color);\n",
              "      border-top-color: var(--fill-color);\n",
              "      border-right-color: var(--fill-color);\n",
              "    }\n",
              "    40% {\n",
              "      border-color: transparent;\n",
              "      border-right-color: var(--fill-color);\n",
              "      border-top-color: var(--fill-color);\n",
              "    }\n",
              "    60% {\n",
              "      border-color: transparent;\n",
              "      border-right-color: var(--fill-color);\n",
              "    }\n",
              "    80% {\n",
              "      border-color: transparent;\n",
              "      border-right-color: var(--fill-color);\n",
              "      border-bottom-color: var(--fill-color);\n",
              "    }\n",
              "    90% {\n",
              "      border-color: transparent;\n",
              "      border-bottom-color: var(--fill-color);\n",
              "    }\n",
              "  }\n",
              "</style>\n",
              "\n",
              "  <script>\n",
              "    async function quickchart(key) {\n",
              "      const quickchartButtonEl =\n",
              "        document.querySelector('#' + key + ' button');\n",
              "      quickchartButtonEl.disabled = true;  // To prevent multiple clicks.\n",
              "      quickchartButtonEl.classList.add('colab-df-spinner');\n",
              "      try {\n",
              "        const charts = await google.colab.kernel.invokeFunction(\n",
              "            'suggestCharts', [key], {});\n",
              "      } catch (error) {\n",
              "        console.error('Error during call to suggestCharts:', error);\n",
              "      }\n",
              "      quickchartButtonEl.classList.remove('colab-df-spinner');\n",
              "      quickchartButtonEl.classList.add('colab-df-quickchart-complete');\n",
              "    }\n",
              "    (() => {\n",
              "      let quickchartButtonEl =\n",
              "        document.querySelector('#df-f24890c1-2dec-4700-82c1-996d61850543 button');\n",
              "      quickchartButtonEl.style.display =\n",
              "        google.colab.kernel.accessAllowed ? 'block' : 'none';\n",
              "    })();\n",
              "  </script>\n",
              "</div>\n",
              "    </div>\n",
              "  </div>\n"
            ]
          },
          "metadata": {},
          "execution_count": 9
        }
      ]
    },
    {
      "cell_type": "code",
      "source": [
        "data[\"text\"].isnull().sum()"
      ],
      "metadata": {
        "colab": {
          "base_uri": "https://localhost:8080/"
        },
        "id": "OXqbHfd7FIEI",
        "outputId": "c264b7c6-6a28-4d60-f316-33cecb08767d"
      },
      "execution_count": 10,
      "outputs": [
        {
          "output_type": "execute_result",
          "data": {
            "text/plain": [
              "0"
            ]
          },
          "metadata": {},
          "execution_count": 10
        }
      ]
    },
    {
      "cell_type": "code",
      "source": [
        "def lemmatization(text):\n",
        "    tokens = spacy_model(text)\n",
        "    text = \" \"\n",
        "    for token in tokens:\n",
        "        lemma = token.lemma_\n",
        "        if (lemma in string.punctuation) or (\"'\" in lemma):\n",
        "            continue\n",
        "        else:\n",
        "            text = text+lemma+\" \"\n",
        "\n",
        "    return text.lower()\n",
        "\n",
        "lemmatized_data = data['text'].apply(lambda x: lemmatization(x))\n",
        "lemmatized_data"
      ],
      "metadata": {
        "colab": {
          "base_uri": "https://localhost:8080/"
        },
        "id": "BmR10PXqFKkA",
        "outputId": "70f5b271-3d0e-4fe8-cbb1-1b280ccc5a17"
      },
      "execution_count": 11,
      "outputs": [
        {
          "output_type": "execute_result",
          "data": {
            "text/plain": [
              "0        i have be experience a skin rash on my arm le...\n",
              "1        my skin have be peel especially on my knee el...\n",
              "2        i have be experience joint pain in my finger ...\n",
              "3        there be a silver like dust on my skin especi...\n",
              "4        my nail have small dent or pit in they and th...\n",
              "                              ...                        \n",
              "1195     i be shake and tremble all over i lose my sen...\n",
              "1196     particularly in the crevice of my skin i have...\n",
              "1197     i regularly experience these intense urge and...\n",
              "1198     i have trouble breathing especially outside i...\n",
              "1199     i constantly sneeze and have a dry cough my i...\n",
              "Name: text, Length: 1200, dtype: object"
            ]
          },
          "metadata": {},
          "execution_count": 11
        }
      ]
    },
    {
      "cell_type": "code",
      "source": [
        "# removing stopwords\n",
        "stopwords = nltk.corpus.stopwords\n",
        "stops = set(stopwords.words(\"english\"))\n",
        "print(stops)\n",
        "\n",
        "def remove_stopwords(text):\n",
        "    for i in stops:\n",
        "        text = re.sub(\" \"+i+\" \", \" \", text)\n",
        "\n",
        "    return text\n",
        "\n",
        "removed_stopwords = lemmatized_data.apply(lambda x: remove_stopwords(x))"
      ],
      "metadata": {
        "colab": {
          "base_uri": "https://localhost:8080/"
        },
        "id": "TiqhMaS0GUYV",
        "outputId": "348c4651-2ca8-4028-c767-65c6b3005fd2"
      },
      "execution_count": 12,
      "outputs": [
        {
          "output_type": "stream",
          "name": "stdout",
          "text": [
            "{'until', 'through', 'any', 'should', 'him', 'over', 'we', 'on', 'that', 'if', 'how', 'my', 'so', 'her', 'into', 'wasn', 'in', 'own', 'ma', 'each', \"shouldn't\", 'some', \"hadn't\", 'have', 'are', 'our', 'more', \"wasn't\", 'am', 'do', 'under', 'won', 'shouldn', \"that'll\", 'out', 'did', 'he', 'this', 'your', 'once', \"wouldn't\", 'and', 'll', 'by', 'she', 'mustn', 'd', 'be', 'other', 's', 'needn', \"you'll\", 'shan', \"you'd\", 'their', 'up', \"mightn't\", \"it's\", 'from', 're', 'themselves', 'yourself', 'a', 'or', \"should've\", 'why', 'haven', 'these', 'whom', 'itself', 'what', 'were', 'below', 'about', 'when', \"shan't\", 'both', 'm', \"you've\", 'didn', 'which', 'was', 've', 'y', 'here', 'such', 'with', 'being', 'while', 'because', 'them', 'just', \"isn't\", 'theirs', 'no', 'i', 'it', 'all', \"mustn't\", 'me', 't', \"hasn't\", 'doesn', \"doesn't\", 'but', \"weren't\", 'weren', 'too', \"didn't\", 'wouldn', 'the', 'couldn', 'its', 'himself', \"aren't\", 'will', 'who', 'aren', 'after', 'only', 'during', 'most', 'yourselves', 'as', 'having', 'few', \"don't\", \"needn't\", 'not', 'been', 'above', 'an', 'can', 'further', 'myself', 'hadn', 'against', \"you're\", 'again', 'between', 'for', 'where', 'same', \"haven't\", 'there', 'is', 'herself', 'has', 'than', 'before', 'isn', \"won't\", 'of', 'ours', 'you', 'hers', 'ain', 'o', 'nor', 'mightn', 'then', \"couldn't\", 'yours', 'don', 'hasn', 'very', 'those', 'to', 'off', 'down', 'now', 'ourselves', 'his', 'does', 'they', \"she's\", 'had', 'doing', 'at'}\n"
          ]
        }
      ]
    },
    {
      "cell_type": "code",
      "source": [
        "for count, value in enumerate(removed_stopwords):\n",
        "    print(count, value)\n",
        "    if count > 15:\n",
        "        break"
      ],
      "metadata": {
        "colab": {
          "base_uri": "https://localhost:8080/"
        },
        "id": "SC2gJd1wGmnO",
        "outputId": "e13fd2ee-62c4-4691-d575-502cdbbdfba1"
      },
      "execution_count": 13,
      "outputs": [
        {
          "output_type": "stream",
          "name": "stdout",
          "text": [
            "0  experience skin rash arm leg torso past week red itchy cover dry scaly patch \n",
            "1  skin peel especially knee elbow scalp peeling often accompany burning sting sensation \n",
            "2  experience joint pain finger wrist knee pain often achy throbbing get bad move joint \n",
            "3  silver like dust skin especially low back scalp dusting make small scale flake easily scratch \n",
            "4  nail small dent pit they often feel inflammatory tender touch even minor rash arm \n",
            "5  skin palm sol thicken deep crack crack painful bleed easily \n",
            "6  skin around mouth nose eye red inflame often itchy uncomfortable noticeable inflammation nail \n",
            "7  skin sensitive react easily change temperature humidity often careful product use skin \n",
            "8  notice sudden peeling skin different part body mainly arm leg back also face severe joint pain skin rash \n",
            "9  skin genital red inflame often itchy burning uncomfortable rash different part body \n",
            "10  experience fatigue general feeling malaise often feel tired lack energy even good night sleep \n",
            "11  rash skin spread part body include chest abdoman itchy uncomfortable often bad night also face skin peeling \n",
            "12  rash skin bad winter month air dry find moisturize frequently use humidifier keep skin hydrated \n",
            "13  experience difficulty sleep due itching discomfort cause rash small dent nail really concern \n",
            "14  skin prone infection due dry flaky patch experience strong pain joint skin knee elbows start peel \n",
            "15  start rash skin rash often bleed scratch rub moreover notice small dent nail \n",
            "16  notice skin become sensitive use silver like dust skin especially back elbow \n"
          ]
        }
      ]
    },
    {
      "cell_type": "code",
      "source": [
        "from tensorflow.keras.preprocessing.text import Tokenizer\n",
        "from tensorflow.keras.preprocessing.sequence import pad_sequences"
      ],
      "metadata": {
        "id": "H5ByUd6gGpeJ"
      },
      "execution_count": 14,
      "outputs": []
    },
    {
      "cell_type": "code",
      "source": [
        "tokenizer = Tokenizer()\n",
        "tokenizer.fit_on_texts(removed_stopwords)"
      ],
      "metadata": {
        "id": "0Kh3BEZFGqxI"
      },
      "execution_count": 15,
      "outputs": []
    },
    {
      "cell_type": "code",
      "source": [
        "word_index = tokenizer.word_index\n",
        "print(len(word_index))"
      ],
      "metadata": {
        "colab": {
          "base_uri": "https://localhost:8080/"
        },
        "id": "X3vk7WFYGt8Z",
        "outputId": "e97d2f49-6172-49f9-bad7-1308ce5daa7c"
      },
      "execution_count": 16,
      "outputs": [
        {
          "output_type": "stream",
          "name": "stdout",
          "text": [
            "1240\n"
          ]
        }
      ]
    },
    {
      "cell_type": "code",
      "source": [
        "sequences = tokenizer.texts_to_sequences(removed_stopwords)\n",
        "sequences[:15]"
      ],
      "metadata": {
        "colab": {
          "base_uri": "https://localhost:8080/"
        },
        "id": "PnlGvZLdGv0h",
        "outputId": "851d0f77-c2f6-4528-cc76-60225d0adcbb"
      },
      "execution_count": 17,
      "outputs": [
        {
          "output_type": "execute_result",
          "data": {
            "text/plain": [
              "[[7, 3, 13, 52, 46, 631, 223, 286, 22, 61, 214, 73, 742, 160],\n",
              " [3, 275, 137, 314, 335, 420, 357, 66, 128, 632, 897, 205],\n",
              " [7, 41, 6, 488, 743, 314, 6, 66, 744, 633, 10, 47, 117, 41],\n",
              " [489, 34, 553, 3, 137, 177, 28, 420, 634, 42, 135, 554, 390, 447, 287],\n",
              " [235, 135, 288, 745, 898, 66, 1, 746, 635, 206, 178, 747, 13, 52],\n",
              " [3, 636, 637, 899, 900, 490, 490, 31, 161, 447],\n",
              " [3, 91, 106, 53, 71, 22, 173, 66, 61, 40, 289, 491, 235],\n",
              " [3, 224, 901, 447, 154, 54, 748, 66, 902, 903, 149, 3],\n",
              " [112, 358, 357, 3, 120, 242, 24, 749, 52, 46, 28, 2, 79, 23, 41, 6, 3, 13],\n",
              " [3, 750, 22, 173, 66, 61, 632, 40, 13, 120, 242, 24],\n",
              " [7, 123, 555, 207, 904, 66, 1, 94, 252, 236, 178, 492, 67, 155],\n",
              " [13, 3, 208, 242, 24, 215, 16, 276, 61, 40, 66, 47, 67, 2, 79, 3, 357],\n",
              " [13, 3, 47, 751, 905, 556, 73, 188, 638, 39, 149, 752, 237, 3, 493],\n",
              " [7, 63, 155, 253, 35, 27, 48, 13, 135, 288, 235, 5, 254],\n",
              " [3, 336, 179, 253, 73, 299, 160, 7, 167, 6, 41, 3, 314, 753, 75, 275]]"
            ]
          },
          "metadata": {},
          "execution_count": 17
        }
      ]
    },
    {
      "cell_type": "code",
      "source": [
        "label_keys = list(data['label'].value_counts().keys())\n",
        "labels = data['label'].apply(lambda x: (label_keys.index(x)))\n",
        "labels"
      ],
      "metadata": {
        "colab": {
          "base_uri": "https://localhost:8080/"
        },
        "id": "2qm70OqyGyPb",
        "outputId": "12e8a571-128c-4057-99fa-da0edf2d1900"
      },
      "execution_count": 18,
      "outputs": [
        {
          "output_type": "execute_result",
          "data": {
            "text/plain": [
              "0        0\n",
              "1        0\n",
              "2        0\n",
              "3        0\n",
              "4        0\n",
              "        ..\n",
              "1195    23\n",
              "1196    23\n",
              "1197    23\n",
              "1198    23\n",
              "1199    23\n",
              "Name: label, Length: 1200, dtype: int64"
            ]
          },
          "metadata": {},
          "execution_count": 18
        }
      ]
    },
    {
      "cell_type": "code",
      "source": [
        "x_train, x_test, y_train, y_test = train_test_split(removed_stopwords, labels, train_size=0.7)"
      ],
      "metadata": {
        "id": "PgUDh1Z3G17r"
      },
      "execution_count": 19,
      "outputs": []
    },
    {
      "cell_type": "code",
      "source": [
        "tokenizer = Tokenizer(oov_token=\"<OOV>\")\n",
        "\n",
        "tokenizer.fit_on_texts(x_train)\n",
        "word_index = tokenizer.word_index\n",
        "\n",
        "training_sequences = tokenizer.texts_to_sequences(x_train)\n",
        "training_padded_sequences = pad_sequences(training_sequences, padding=\"post\", maxlen=30)\n",
        "\n",
        "test_sequences = tokenizer.texts_to_sequences(x_test)\n",
        "test_padded_sequences = pad_sequences(test_sequences, padding=\"post\", maxlen=30)"
      ],
      "metadata": {
        "id": "qldMS-z5G4aW"
      },
      "execution_count": 20,
      "outputs": []
    },
    {
      "cell_type": "code",
      "source": [
        "training_padded_sequences = np.array(training_padded_sequences)\n",
        "test_padded_sequences = np.array(test_padded_sequences)\n",
        "vocab_size = len(word_index)"
      ],
      "metadata": {
        "id": "erlB5AaeG6XB"
      },
      "execution_count": 21,
      "outputs": []
    },
    {
      "cell_type": "code",
      "source": [
        "print(training_padded_sequences.shape)\n",
        "print(test_padded_sequences.shape)\n",
        "print(vocab_size)"
      ],
      "metadata": {
        "colab": {
          "base_uri": "https://localhost:8080/"
        },
        "id": "pGUiLOKaG8CN",
        "outputId": "b3d62c5a-16fc-4b61-d4ef-b86546781c21"
      },
      "execution_count": 22,
      "outputs": [
        {
          "output_type": "stream",
          "name": "stdout",
          "text": [
            "(840, 30)\n",
            "(360, 30)\n",
            "1103\n"
          ]
        }
      ]
    },
    {
      "cell_type": "code",
      "source": [
        "model = tf.keras.Sequential([\n",
        "    tf.keras.layers.Embedding(vocab_size+1, 16, input_length=len(training_padded_sequences[0])),\n",
        "#     tf.keras.layers.LSTM(10),\n",
        "    tf.keras.layers.GlobalAveragePooling1D(),\n",
        "    tf.keras.layers.Dense(16, activation=\"relu\"),\n",
        "    tf.keras.layers.Dense(32, activation=\"relu\"),\n",
        "    tf.keras.layers.Dense(24, activation=\"softmax\")\n",
        "])\n",
        "\n",
        "model.compile(optimizer='adam', loss=\"sparse_categorical_crossentropy\", metrics=['accuracy'])\n",
        "\n",
        "model.summary()"
      ],
      "metadata": {
        "colab": {
          "base_uri": "https://localhost:8080/"
        },
        "id": "cNR7oaGtG9vO",
        "outputId": "5bee5a8e-ddb7-493e-de56-8c6d6a6f1cd3"
      },
      "execution_count": 23,
      "outputs": [
        {
          "output_type": "stream",
          "name": "stdout",
          "text": [
            "Model: \"sequential\"\n",
            "_________________________________________________________________\n",
            " Layer (type)                Output Shape              Param #   \n",
            "=================================================================\n",
            " embedding (Embedding)       (None, 30, 16)            17664     \n",
            "                                                                 \n",
            " global_average_pooling1d (  (None, 16)                0         \n",
            " GlobalAveragePooling1D)                                         \n",
            "                                                                 \n",
            " dense (Dense)               (None, 16)                272       \n",
            "                                                                 \n",
            " dense_1 (Dense)             (None, 32)                544       \n",
            "                                                                 \n",
            " dense_2 (Dense)             (None, 24)                792       \n",
            "                                                                 \n",
            "=================================================================\n",
            "Total params: 19272 (75.28 KB)\n",
            "Trainable params: 19272 (75.28 KB)\n",
            "Non-trainable params: 0 (0.00 Byte)\n",
            "_________________________________________________________________\n"
          ]
        }
      ]
    },
    {
      "cell_type": "code",
      "source": [
        "num_epochs = 40\n",
        "history = model.fit(\n",
        "    training_padded_sequences,\n",
        "    y_train,\n",
        "    epochs=num_epochs,\n",
        "    validation_data=(test_padded_sequences, y_test), verbose=2)"
      ],
      "metadata": {
        "colab": {
          "base_uri": "https://localhost:8080/"
        },
        "id": "XMnqXPHyHAWT",
        "outputId": "d5b68dfb-4b0e-4da4-c238-1939f083cd00"
      },
      "execution_count": 24,
      "outputs": [
        {
          "output_type": "stream",
          "name": "stdout",
          "text": [
            "Epoch 1/40\n",
            "27/27 - 1s - loss: 3.1770 - accuracy: 0.0476 - val_loss: 3.1751 - val_accuracy: 0.0861 - 1s/epoch - 55ms/step\n",
            "Epoch 2/40\n",
            "27/27 - 0s - loss: 3.1706 - accuracy: 0.0607 - val_loss: 3.1690 - val_accuracy: 0.0250 - 110ms/epoch - 4ms/step\n",
            "Epoch 3/40\n",
            "27/27 - 0s - loss: 3.1572 - accuracy: 0.0488 - val_loss: 3.1534 - val_accuracy: 0.0278 - 108ms/epoch - 4ms/step\n",
            "Epoch 4/40\n",
            "27/27 - 0s - loss: 3.1279 - accuracy: 0.0750 - val_loss: 3.1208 - val_accuracy: 0.0639 - 113ms/epoch - 4ms/step\n",
            "Epoch 5/40\n",
            "27/27 - 0s - loss: 3.0728 - accuracy: 0.1369 - val_loss: 3.0604 - val_accuracy: 0.1167 - 121ms/epoch - 4ms/step\n",
            "Epoch 6/40\n",
            "27/27 - 0s - loss: 2.9765 - accuracy: 0.1821 - val_loss: 2.9553 - val_accuracy: 0.1250 - 130ms/epoch - 5ms/step\n",
            "Epoch 7/40\n",
            "27/27 - 0s - loss: 2.8244 - accuracy: 0.1750 - val_loss: 2.8024 - val_accuracy: 0.1278 - 129ms/epoch - 5ms/step\n",
            "Epoch 8/40\n",
            "27/27 - 0s - loss: 2.6428 - accuracy: 0.1869 - val_loss: 2.6476 - val_accuracy: 0.1361 - 156ms/epoch - 6ms/step\n",
            "Epoch 9/40\n",
            "27/27 - 0s - loss: 2.4680 - accuracy: 0.2429 - val_loss: 2.4906 - val_accuracy: 0.2000 - 116ms/epoch - 4ms/step\n",
            "Epoch 10/40\n",
            "27/27 - 0s - loss: 2.2906 - accuracy: 0.3357 - val_loss: 2.3093 - val_accuracy: 0.3083 - 113ms/epoch - 4ms/step\n",
            "Epoch 11/40\n",
            "27/27 - 0s - loss: 2.1003 - accuracy: 0.4786 - val_loss: 2.1197 - val_accuracy: 0.4278 - 109ms/epoch - 4ms/step\n",
            "Epoch 12/40\n",
            "27/27 - 0s - loss: 1.8974 - accuracy: 0.5774 - val_loss: 1.9233 - val_accuracy: 0.5417 - 113ms/epoch - 4ms/step\n",
            "Epoch 13/40\n",
            "27/27 - 0s - loss: 1.6977 - accuracy: 0.6536 - val_loss: 1.7435 - val_accuracy: 0.5528 - 117ms/epoch - 4ms/step\n",
            "Epoch 14/40\n",
            "27/27 - 0s - loss: 1.5174 - accuracy: 0.6405 - val_loss: 1.5761 - val_accuracy: 0.5750 - 120ms/epoch - 4ms/step\n",
            "Epoch 15/40\n",
            "27/27 - 0s - loss: 1.3594 - accuracy: 0.6810 - val_loss: 1.4467 - val_accuracy: 0.6083 - 123ms/epoch - 5ms/step\n",
            "Epoch 16/40\n",
            "27/27 - 0s - loss: 1.2241 - accuracy: 0.7060 - val_loss: 1.3297 - val_accuracy: 0.6472 - 111ms/epoch - 4ms/step\n",
            "Epoch 17/40\n",
            "27/27 - 0s - loss: 1.1144 - accuracy: 0.7393 - val_loss: 1.2456 - val_accuracy: 0.6583 - 109ms/epoch - 4ms/step\n",
            "Epoch 18/40\n",
            "27/27 - 0s - loss: 1.0171 - accuracy: 0.7571 - val_loss: 1.1585 - val_accuracy: 0.7222 - 111ms/epoch - 4ms/step\n",
            "Epoch 19/40\n",
            "27/27 - 0s - loss: 0.9315 - accuracy: 0.7893 - val_loss: 1.0952 - val_accuracy: 0.6944 - 109ms/epoch - 4ms/step\n",
            "Epoch 20/40\n",
            "27/27 - 0s - loss: 0.8557 - accuracy: 0.8095 - val_loss: 1.0331 - val_accuracy: 0.7500 - 112ms/epoch - 4ms/step\n",
            "Epoch 21/40\n",
            "27/27 - 0s - loss: 0.7868 - accuracy: 0.8310 - val_loss: 1.0062 - val_accuracy: 0.7167 - 109ms/epoch - 4ms/step\n",
            "Epoch 22/40\n",
            "27/27 - 0s - loss: 0.7286 - accuracy: 0.8524 - val_loss: 0.9587 - val_accuracy: 0.7389 - 113ms/epoch - 4ms/step\n",
            "Epoch 23/40\n",
            "27/27 - 0s - loss: 0.6786 - accuracy: 0.8643 - val_loss: 0.9033 - val_accuracy: 0.7444 - 120ms/epoch - 4ms/step\n",
            "Epoch 24/40\n",
            "27/27 - 0s - loss: 0.6248 - accuracy: 0.8738 - val_loss: 0.8537 - val_accuracy: 0.7750 - 159ms/epoch - 6ms/step\n",
            "Epoch 25/40\n",
            "27/27 - 0s - loss: 0.5747 - accuracy: 0.8988 - val_loss: 0.8357 - val_accuracy: 0.7806 - 114ms/epoch - 4ms/step\n",
            "Epoch 26/40\n",
            "27/27 - 0s - loss: 0.5356 - accuracy: 0.8869 - val_loss: 0.8138 - val_accuracy: 0.7750 - 118ms/epoch - 4ms/step\n",
            "Epoch 27/40\n",
            "27/27 - 0s - loss: 0.4977 - accuracy: 0.9119 - val_loss: 0.7829 - val_accuracy: 0.7861 - 119ms/epoch - 4ms/step\n",
            "Epoch 28/40\n",
            "27/27 - 0s - loss: 0.4636 - accuracy: 0.9179 - val_loss: 0.7553 - val_accuracy: 0.8083 - 97ms/epoch - 4ms/step\n",
            "Epoch 29/40\n",
            "27/27 - 0s - loss: 0.4306 - accuracy: 0.9262 - val_loss: 0.7348 - val_accuracy: 0.8083 - 154ms/epoch - 6ms/step\n",
            "Epoch 30/40\n",
            "27/27 - 0s - loss: 0.3973 - accuracy: 0.9393 - val_loss: 0.7190 - val_accuracy: 0.7944 - 100ms/epoch - 4ms/step\n",
            "Epoch 31/40\n",
            "27/27 - 0s - loss: 0.3723 - accuracy: 0.9417 - val_loss: 0.6967 - val_accuracy: 0.8111 - 134ms/epoch - 5ms/step\n",
            "Epoch 32/40\n",
            "27/27 - 0s - loss: 0.3472 - accuracy: 0.9512 - val_loss: 0.6940 - val_accuracy: 0.8083 - 107ms/epoch - 4ms/step\n",
            "Epoch 33/40\n",
            "27/27 - 0s - loss: 0.3280 - accuracy: 0.9560 - val_loss: 0.6832 - val_accuracy: 0.8111 - 105ms/epoch - 4ms/step\n",
            "Epoch 34/40\n",
            "27/27 - 0s - loss: 0.2972 - accuracy: 0.9655 - val_loss: 0.6579 - val_accuracy: 0.8111 - 106ms/epoch - 4ms/step\n",
            "Epoch 35/40\n",
            "27/27 - 0s - loss: 0.2833 - accuracy: 0.9631 - val_loss: 0.6531 - val_accuracy: 0.8194 - 112ms/epoch - 4ms/step\n",
            "Epoch 36/40\n",
            "27/27 - 0s - loss: 0.2622 - accuracy: 0.9702 - val_loss: 0.6506 - val_accuracy: 0.8250 - 111ms/epoch - 4ms/step\n",
            "Epoch 37/40\n",
            "27/27 - 0s - loss: 0.2377 - accuracy: 0.9750 - val_loss: 0.6309 - val_accuracy: 0.8194 - 114ms/epoch - 4ms/step\n",
            "Epoch 38/40\n",
            "27/27 - 0s - loss: 0.2217 - accuracy: 0.9798 - val_loss: 0.6305 - val_accuracy: 0.8278 - 97ms/epoch - 4ms/step\n",
            "Epoch 39/40\n",
            "27/27 - 0s - loss: 0.2052 - accuracy: 0.9845 - val_loss: 0.6163 - val_accuracy: 0.8306 - 113ms/epoch - 4ms/step\n",
            "Epoch 40/40\n",
            "27/27 - 0s - loss: 0.1883 - accuracy: 0.9833 - val_loss: 0.6077 - val_accuracy: 0.8306 - 121ms/epoch - 4ms/step\n"
          ]
        }
      ]
    },
    {
      "cell_type": "code",
      "source": [
        "predict = model.predict(test_padded_sequences)\n"
      ],
      "metadata": {
        "colab": {
          "base_uri": "https://localhost:8080/"
        },
        "id": "pCCB2Db9HIK4",
        "outputId": "ee06fb87-9608-433c-9913-be31ce06c998"
      },
      "execution_count": 25,
      "outputs": [
        {
          "output_type": "stream",
          "name": "stdout",
          "text": [
            "12/12 [==============================] - 0s 2ms/step\n"
          ]
        }
      ]
    },
    {
      "cell_type": "code",
      "source": [
        "predict = np.argmax(predict, axis=1)\n",
        "predict"
      ],
      "metadata": {
        "colab": {
          "base_uri": "https://localhost:8080/"
        },
        "id": "y3D0OaL3HLJp",
        "outputId": "66634bda-93af-46b5-adb1-ec677dfd4c8b"
      },
      "execution_count": 26,
      "outputs": [
        {
          "output_type": "execute_result",
          "data": {
            "text/plain": [
              "array([ 9,  8, 23, 16, 23,  5, 11, 23,  3, 18, 21, 22, 20,  7,  7,  7, 20,\n",
              "       22,  9,  9, 23,  5,  4, 12, 21,  5, 19, 19,  5,  6, 15, 22, 10,  0,\n",
              "        6, 17,  0, 15,  5, 19, 13,  3,  9, 15, 14,  4, 16,  1,  3,  6,  6,\n",
              "        9,  5, 14, 14, 18,  1, 19, 11,  9,  4,  8, 16, 16,  0, 17, 21,  4,\n",
              "        7,  5, 13,  2,  0,  0,  6, 17, 19, 15,  5,  4, 18,  7,  9, 16, 14,\n",
              "       16,  5,  7, 15,  7, 13, 18, 23, 22,  1,  8, 13, 22,  4,  7, 14,  3,\n",
              "       20, 22, 10,  9, 23,  0, 20, 20, 15, 21, 14, 12,  5,  6, 21,  1,  4,\n",
              "        9, 17, 21,  9,  9, 20,  6, 17,  6,  8,  9, 11, 19,  1,  1,  3, 15,\n",
              "       21, 18, 13,  4,  8, 22, 21,  2, 19,  1, 20,  7, 21,  1, 10, 15, 23,\n",
              "       21,  0,  5, 12, 11,  7, 14,  4, 20, 12, 18,  9,  5, 13,  6,  9, 21,\n",
              "       16, 11,  1, 19, 13,  2, 23, 15, 18, 12, 21, 21,  1,  7,  5,  4, 17,\n",
              "        5, 16,  7, 14, 21,  7, 19, 13,  6, 14,  4, 22,  2, 12, 14, 17, 14,\n",
              "        0, 18, 11,  8,  1, 14, 21,  0, 16,  4, 14, 23, 17,  2, 19, 10,  9,\n",
              "       18,  8,  1,  3,  5,  8,  7, 18, 10,  4,  7,  9, 11, 20,  3, 16, 13,\n",
              "        7, 10, 15, 13, 18, 12, 23, 14, 12, 15,  0, 18,  7, 22, 22,  3, 22,\n",
              "       12, 17, 13, 17, 10,  7,  1, 23, 12, 14, 14,  0, 21,  8, 18, 18, 21,\n",
              "       12, 11,  8,  1,  5,  3, 17,  1, 23, 22, 12,  3,  8,  0, 20,  9,  8,\n",
              "       19, 20, 18, 21,  6, 21,  6,  0, 16, 23,  4, 20, 15, 12, 21, 16, 13,\n",
              "       22,  0, 16, 20,  8, 11, 20,  1,  5, 23, 11,  4, 17, 12, 19,  4, 18,\n",
              "       19,  3,  9, 15, 22, 23, 13, 11, 10, 18, 15,  4,  0, 21,  8, 10, 16,\n",
              "       23, 19, 12, 18, 15, 14, 11,  1,  4, 21, 23, 19,  8, 21,  8, 17,  6,\n",
              "       13, 11, 19])"
            ]
          },
          "metadata": {},
          "execution_count": 26
        }
      ]
    },
    {
      "cell_type": "code",
      "source": [
        "cm = metrics.confusion_matrix(y_test, predict)\n",
        "\n",
        "sns.heatmap(cm, annot=True)\n",
        "plt.show()"
      ],
      "metadata": {
        "colab": {
          "base_uri": "https://localhost:8080/",
          "height": 439
        },
        "id": "HQsvgPmvHSSg",
        "outputId": "d0a63f23-8f72-4252-ebfa-7ea7e24aaf6e"
      },
      "execution_count": 27,
      "outputs": [
        {
          "output_type": "display_data",
          "data": {
            "text/plain": [
              "<Figure size 640x480 with 2 Axes>"
            ],
            "image/png": "[encoded data removed]"
          },
          "metadata": {}
        }
      ]
    },
    {
      "cell_type": "code",
      "source": [
        "converter = tf.lite.TFLiteConverter.from_keras_model(model)\n",
        "tflite_model = converter.convert()\n",
        "\n",
        "with open('classic_model.tflite', 'wb') as f:\n",
        "    f.write(tflite_model)\n",
        "\n",
        "from google.colab import files\n",
        "\n",
        "files.download('classic_model.tflite')"
      ],
      "metadata": {
        "colab": {
          "base_uri": "https://localhost:8080/",
          "height": 17
        },
        "id": "a6PChr4KX299",
        "outputId": "8677d4de-851e-499b-949e-df27ebe24f42"
      },
      "execution_count": 28,
      "outputs": [
        {
          "output_type": "display_data",
          "data": {
            "text/plain": [
              "<IPython.core.display.Javascript object>"
            ],
            "application/javascript": [
              "\n",
              "    async function download(id, filename, size) {\n",
              "      if (!google.colab.kernel.accessAllowed) {\n",
              "        return;\n",
              "      }\n",
              "      const div = document.createElement('div');\n",
              "      const label = document.createElement('label');\n",
              "      label.textContent = `Downloading \"${filename}\": `;\n",
              "      div.appendChild(label);\n",
              "      const progress = document.createElement('progress');\n",
              "      progress.max = size;\n",
              "      div.appendChild(progress);\n",
              "      document.body.appendChild(div);\n",
              "\n",
              "      const buffers = [];\n",
              "      let downloaded = 0;\n",
              "\n",
              "      const channel = await google.colab.kernel.comms.open(id);\n",
              "      // Send a message to notify the kernel that we're ready.\n",
              "      channel.send({})\n",
              "\n",
              "      for await (const message of channel.messages) {\n",
              "        // Send a message to notify the kernel that we're ready.\n",
              "        channel.send({})\n",
              "        if (message.buffers) {\n",
              "          for (const buffer of message.buffers) {\n",
              "            buffers.push(buffer);\n",
              "            downloaded += buffer.byteLength;\n",
              "            progress.value = downloaded;\n",
              "          }\n",
              "        }\n",
              "      }\n",
              "      const blob = new Blob(buffers, {type: 'application/binary'});\n",
              "      const a = document.createElement('a');\n",
              "      a.href = window.URL.createObjectURL(blob);\n",
              "      a.download = filename;\n",
              "      div.appendChild(a);\n",
              "      a.click();\n",
              "      div.remove();\n",
              "    }\n",
              "  "
            ]
          },
          "metadata": {}
        },
        {
          "output_type": "display_data",
          "data": {
            "text/plain": [
              "<IPython.core.display.Javascript object>"
            ],
            "application/javascript": [
              "download(\"download_1fd0c211-1d5e-4efa-83c4-0f1ff311fdd0\", \"classic_model.tflite\", 79996)"
            ]
          },
          "metadata": {}
        }
      ]
    }
  ]
}